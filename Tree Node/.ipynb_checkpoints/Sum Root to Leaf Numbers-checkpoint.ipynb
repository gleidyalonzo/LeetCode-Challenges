{
 "cells": [
  {
   "cell_type": "code",
   "execution_count": 16,
   "id": "50ea62e6",
   "metadata": {},
   "outputs": [],
   "source": [
    "# Definition for a binary tree node.\n",
    "class TreeNode(object):\n",
    "    def __init__(self, val=0, left=None, right=None):\n",
    "        self.val = val\n",
    "        self.left = left\n",
    "        self.right = right\n",
    "class Solution(object):\n",
    "    def sumNumbers(self, root):\n",
    "        \"\"\"\n",
    "        :type root: TreeNode\n",
    "        :rtype: int\n",
    "        \"\"\"\n",
    "        #function for DFS traversal\n",
    "        def dfs(node, current_sum):\n",
    "            if not node:\n",
    "                return 0\n",
    "\n",
    "            #Calculatiing the current number based on formed path\n",
    "            current_sum = current_sum * 10 + node.val\n",
    "            #if the nore is a leaf, return the current number\n",
    "            if not node.left and not node.right:\n",
    "                return current_sum\n",
    "            #calculating the sum of number for left and right subtrees\n",
    "            return dfs(node.left,current_sum) + dfs(node.right, current_sum)\n",
    "\n",
    "        #start DF tranversal\n",
    "        return dfs(root,0)    \n",
    "        "
   ]
  },
  {
   "cell_type": "code",
   "execution_count": 164,
   "id": "a7568379",
   "metadata": {},
   "outputs": [
    {
     "name": "stdout",
     "output_type": "stream",
     "text": [
      "Sum Root to Leaf Numbers =\", 2974,\n",
      "      \n",
      "-------------------------------\n",
      "|        1\n",
      "|       /\\\n",
      "|       14 15 \n",
      "|       /\\   \\\n",
      "|     6  2    2\n",
      "|     /\\\n",
      "|    20 \n",
      "\n"
     ]
    }
   ],
   "source": [
    "from random import randint\n",
    "#Test Case 1\n",
    "#create a binary tree\n",
    "\n",
    "root = TreeNode(1)\n",
    "root.left = TreeNode(randint(1, 20))\n",
    "root.right = TreeNode(randint(1, 20))\n",
    "root.left.right = TreeNode(randint(1, 20)) \n",
    "root.left.left = TreeNode(randint(1, 20)) \n",
    "root.left.left.left = TreeNode(randint(1, 20))\n",
    "root.right.right = TreeNode(randint(1, 20))\n",
    "\n",
    "#create a instance of Solution class.\n",
    "solution = Solution()\n",
    "\n",
    "#calculate the Sum Root to Leaf Numbers\n",
    "result = solution.sumNumbers(root)\n",
    "\n",
    "print(f\"\"\"Sum Root to Leaf Numbers =\", {result},\n",
    "      \\n-------------------------------\n",
    "|        {root.val}\n",
    "|       /\\\\\n",
    "|       {root.left.val} {root.right.val} \n",
    "|       /\\\\   \\\\\n",
    "|     {root.left.left.val}  {root.left.right.val}    {root.right.right.val}\n",
    "|     /\\\\\n",
    "|    {root.left.left.left.val} \n",
    "\"\"\")  \n"
   ]
  },
  {
   "cell_type": "code",
   "execution_count": null,
   "id": "da7a38f5",
   "metadata": {},
   "outputs": [],
   "source": []
  }
 ],
 "metadata": {
  "kernelspec": {
   "display_name": "Python 3",
   "language": "python",
   "name": "python3"
  },
  "language_info": {
   "codemirror_mode": {
    "name": "ipython",
    "version": 3
   },
   "file_extension": ".py",
   "mimetype": "text/x-python",
   "name": "python",
   "nbconvert_exporter": "python",
   "pygments_lexer": "ipython3",
   "version": "3.8.8"
  }
 },
 "nbformat": 4,
 "nbformat_minor": 5
}
