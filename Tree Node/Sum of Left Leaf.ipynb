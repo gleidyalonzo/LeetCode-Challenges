{
 "cells": [
  {
   "cell_type": "code",
   "execution_count": 18,
   "id": "5b2567a6",
   "metadata": {},
   "outputs": [
    {
     "name": "stdout",
     "output_type": "stream",
     "text": [
      "Sum of left leaves: 24\n"
     ]
    }
   ],
   "source": [
    "class TreeNode(object):\n",
    "    def __init__(self, val=0, left=None, right=None):\n",
    "        self.val = val\n",
    "        self.left = left\n",
    "        self.right = right\n",
    "\n",
    "class Solution(object):\n",
    "    def sumOfLeftLeaves(self, root):\n",
    "        \"\"\"\n",
    "        :type root: TreeNode\n",
    "        :rtype: int\n",
    "        \"\"\"\n",
    "        # Helper function to check if a node is a leaf node and is on the left side\n",
    "        def is_left_leaf(node):\n",
    "            return node and not node.left and not node.right\n",
    "        \n",
    "        # Recursive function to calculate the sum of left leaves\n",
    "        def dfs(node):\n",
    "            if not node:\n",
    "                return 0\n",
    "            # Check if the left child is a leaf, if yes, add its value\n",
    "            if is_left_leaf(node.left):\n",
    "                return node.left.val + dfs(node.right)  # Add the left leaf value and recursively process the right subtree\n",
    "            # If the left child is not a leaf, recursively process both left and right subtrees\n",
    "            return dfs(node.left) + dfs(node.right)\n",
    "        \n",
    "        return dfs(root)\n",
    "\n",
    "# Create a binary tree\n",
    "root = TreeNode(3)\n",
    "root.left = TreeNode(9)\n",
    "root.right = TreeNode(20)\n",
    "root.right.left = TreeNode(15)\n",
    "root.right.right = TreeNode(7)\n",
    "\n",
    "# Create an instance of Solution class\n",
    "solution = Solution()\n",
    "\n",
    "# Calculate the sum of left leaves\n",
    "result = solution.sumOfLeftLeaves(root)\n",
    "print(\"Sum of left leaves:\", result)  # Output: Sum of left leaves: 24\n"
   ]
  }
 ],
 "metadata": {
  "kernelspec": {
   "display_name": "Python 3",
   "language": "python",
   "name": "python3"
  },
  "language_info": {
   "codemirror_mode": {
    "name": "ipython",
    "version": 3
   },
   "file_extension": ".py",
   "mimetype": "text/x-python",
   "name": "python",
   "nbconvert_exporter": "python",
   "pygments_lexer": "ipython3",
   "version": "3.8.8"
  }
 },
 "nbformat": 4,
 "nbformat_minor": 5
}
